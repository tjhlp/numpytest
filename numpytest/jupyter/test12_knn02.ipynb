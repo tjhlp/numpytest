{
 "cells": [
  {
   "cell_type": "code",
   "execution_count": 1,
   "metadata": {},
   "outputs": [],
   "source": [
    "# 获取数据\n",
    "# 数据预处理\n",
    "# 特征工程\n",
    "# 模型训练（机器学习）\n",
    "# 评估模型"
   ]
  },
  {
   "cell_type": "code",
   "execution_count": 30,
   "metadata": {},
   "outputs": [],
   "source": [
    "from sklearn.datasets import load_iris\n",
    "from sklearn.model_selection import train_test_split\n",
    "from sklearn.preprocessing import StandardScaler\n",
    "from sklearn.neighbors import KNeighborsClassifier\n",
    "from sklearn.model_selection import GridSearchCV"
   ]
  },
  {
   "cell_type": "code",
   "execution_count": 3,
   "metadata": {},
   "outputs": [],
   "source": [
    "# 获取数据\n",
    "iris = load_iris()"
   ]
  },
  {
   "cell_type": "code",
   "execution_count": 26,
   "metadata": {},
   "outputs": [],
   "source": [
    "# 数据预处理\n",
    "x_train, x_test, y_train, y_test = train_test_split(iris.data, iris.target, test_size=0.2)"
   ]
  },
  {
   "cell_type": "code",
   "execution_count": 32,
   "metadata": {},
   "outputs": [],
   "source": [
    "# 特征工程(标准化)\n",
    "transfer = StandardScaler()\n",
    "x_train = transfer.fit_transform(x_train)\n",
    "x_test = transfer.transform(x_test)"
   ]
  },
  {
   "cell_type": "code",
   "execution_count": 35,
   "metadata": {},
   "outputs": [
    {
     "name": "stdout",
     "output_type": "stream",
     "text": [
      "直接计算准确率：\n",
      " 0.9\n",
      "交叉验证修好的结果:\n",
      " 0.95\n",
      "最好的参数模型:\n",
      " KNeighborsClassifier(algorithm='auto', leaf_size=30, metric='minkowski',\n",
      "           metric_params=None, n_jobs=1, n_neighbors=5, p=2,\n",
      "           weights='uniform')\n",
      "每次交叉验证后的准确率结果 {'mean_fit_time': array([0.00099969, 0.00066535, 0.        ]), 'std_fit_time': array([8.48537942e-07, 4.70477020e-04, 0.00000000e+00]), 'mean_score_time': array([0.00366418, 0.00299708, 0.00267283]), 'std_score_time': array([0.00047165, 0.00081663, 0.00047628]), 'param_n_neighbors': masked_array(data=[1, 3, 5],\n",
      "             mask=[False, False, False],\n",
      "       fill_value='?',\n",
      "            dtype=object), 'params': [{'n_neighbors': 1}, {'n_neighbors': 3}, {'n_neighbors': 5}], 'split0_test_score': array([0.92857143, 0.92857143, 0.92857143]), 'split1_test_score': array([1., 1., 1.]), 'split2_test_score': array([0.8974359 , 0.8974359 , 0.92307692]), 'mean_test_score': array([0.94166667, 0.94166667, 0.95      ]), 'std_test_score': array([0.04244691, 0.04244691, 0.03476767]), 'rank_test_score': array([2, 2, 1]), 'split0_train_score': array([1.        , 0.94871795, 0.94871795]), 'split1_train_score': array([1.        , 0.9382716 , 0.95061728]), 'split2_train_score': array([1.        , 0.97530864, 0.98765432]), 'mean_train_score': array([1.        , 0.9540994 , 0.96232985]), 'std_train_score': array([0.        , 0.01559178, 0.01792388])}\n"
     ]
    }
   ],
   "source": [
    "# 模型训练（机器学习）\n",
    "estimator = KNeighborsClassifier(n_neighbors=5)\n",
    "# estimator.fit(x_train, y_train)\n",
    "\n",
    "# 模型选择与调优 -- 交叉验证与网格搜索\n",
    "param = {'n_neighbors':[1,3,5]}\n",
    "estimator = GridSearchCV(estimator, param_grid=param, cv=3)\n",
    "estimator.fit(x_train, y_train)\n",
    "\n",
    "\n",
    "# 评估模型\n",
    "y_predict = estimator.predict(x_test)\n",
    "score = estimator.score(x_test, y_test)\n",
    "print(\"直接计算准确率：\\n\", score)\n",
    "\n",
    "print('交叉验证修好的结果:\\n', estimator.best_score_)\n",
    "print('最好的参数模型:\\n' , estimator.best_estimator_)\n",
    "print('每次交叉验证后的准确率结果', estimator.cv_results_)\n"
   ]
  },
  {
   "cell_type": "code",
   "execution_count": null,
   "metadata": {},
   "outputs": [],
   "source": []
  }
 ],
 "metadata": {
  "kernelspec": {
   "display_name": "Python 3",
   "language": "python",
   "name": "python3"
  },
  "language_info": {
   "codemirror_mode": {
    "name": "ipython",
    "version": 3
   },
   "file_extension": ".py",
   "mimetype": "text/x-python",
   "name": "python",
   "nbconvert_exporter": "python",
   "pygments_lexer": "ipython3",
   "version": "3.6.3"
  },
  "toc": {
   "base_numbering": 1,
   "nav_menu": {},
   "number_sections": true,
   "sideBar": true,
   "skip_h1_title": false,
   "title_cell": "Table of Contents",
   "title_sidebar": "Contents",
   "toc_cell": false,
   "toc_position": {},
   "toc_section_display": true,
   "toc_window_display": false
  }
 },
 "nbformat": 4,
 "nbformat_minor": 2
}
